{
 "cells": [
  {
   "cell_type": "code",
   "execution_count": 1,
   "id": "283373ff",
   "metadata": {},
   "outputs": [],
   "source": [
    "import boto3\n",
    "ec2_resource=boto3.resource(\"ec2\")"
   ]
  },
  {
   "cell_type": "code",
   "execution_count": 1,
   "id": "5b9bf3b5",
   "metadata": {},
   "outputs": [
    {
     "ename": "NameError",
     "evalue": "name 'ec2_resource' is not defined",
     "output_type": "error",
     "traceback": [
      "\u001b[1;31m---------------------------------------------------------------------------\u001b[0m",
      "\u001b[1;31mNameError\u001b[0m                                 Traceback (most recent call last)",
      "\u001b[1;32m<ipython-input-1-7da7fe09903e>\u001b[0m in \u001b[0;36m<module>\u001b[1;34m\u001b[0m\n\u001b[1;32m----> 1\u001b[1;33m instances= ec2_resource.create_instances(ImageId='ami-0d8d212151031f51c', \n\u001b[0m\u001b[0;32m      2\u001b[0m                                         \u001b[0mInstanceType\u001b[0m\u001b[1;33m=\u001b[0m\u001b[1;34m't2.micro'\u001b[0m\u001b[1;33m,\u001b[0m\u001b[1;33m\u001b[0m\u001b[0m\n\u001b[0;32m      3\u001b[0m                                         \u001b[0mMaxCount\u001b[0m\u001b[1;33m=\u001b[0m\u001b[1;36m1\u001b[0m\u001b[1;33m,\u001b[0m\u001b[1;33m\u001b[0m\u001b[0m\n\u001b[0;32m      4\u001b[0m                                         MinCount=1)\n",
      "\u001b[1;31mNameError\u001b[0m: name 'ec2_resource' is not defined"
     ]
    }
   ],
   "source": [
    "instances= ec2_resource.create_instances(ImageId='ami-0ad704c126371a549', \n",
    "                                        InstanceType='t2.micro',\n",
    "                                        MaxCount=1,\n",
    "                                        MinCount=1)"
   ]
  },
  {
   "cell_type": "code",
   "execution_count": null,
   "id": "12ed5be5",
   "metadata": {},
   "outputs": [],
   "source": []
  }
 ],
 "metadata": {
  "kernelspec": {
   "display_name": "Python 3",
   "language": "python",
   "name": "python3"
  },
  "language_info": {
   "codemirror_mode": {
    "name": "ipython",
    "version": 3
   },
   "file_extension": ".py",
   "mimetype": "text/x-python",
   "name": "python",
   "nbconvert_exporter": "python",
   "pygments_lexer": "ipython3",
   "version": "3.6.5"
  }
 },
 "nbformat": 4,
 "nbformat_minor": 5
}
