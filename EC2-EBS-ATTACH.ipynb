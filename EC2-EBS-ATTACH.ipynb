{
 "cells": [
  {
   "cell_type": "code",
   "execution_count": 1,
   "id": "72adb371",
   "metadata": {},
   "outputs": [],
   "source": [
    "import boto3\n",
    "ec2_resource=boto3.resource(\"ec2\")"
   ]
  },
  {
   "cell_type": "code",
   "execution_count": 2,
   "id": "00c89d12",
   "metadata": {},
   "outputs": [],
   "source": [
    "instances= ec2_resource.create_instances(ImageId= 'ami-0ad704c126371a549',\n",
    "                                        InstanceType='t2.micro',\n",
    "                                        MaxCount=1,\n",
    "                                        MinCount=1)"
   ]
  },
  {
   "cell_type": "code",
   "execution_count": 3,
   "id": "1e9c4540",
   "metadata": {},
   "outputs": [],
   "source": [
    "inst= instances[0]"
   ]
  },
  {
   "cell_type": "code",
   "execution_count": 4,
   "id": "887f3c98",
   "metadata": {},
   "outputs": [],
   "source": [
    "imgid= inst.id"
   ]
  },
  {
   "cell_type": "code",
   "execution_count": 5,
   "id": "4b84ed0b",
   "metadata": {},
   "outputs": [
    {
     "data": {
      "text/plain": [
       "'i-06b147b372be45339'"
      ]
     },
     "execution_count": 5,
     "metadata": {},
     "output_type": "execute_result"
    }
   ],
   "source": [
    "imgid"
   ]
  },
  {
   "cell_type": "code",
   "execution_count": 6,
   "id": "8be3fa80",
   "metadata": {},
   "outputs": [],
   "source": [
    "import boto3\n",
    "ec2_client= boto3.client(\"ec2\")"
   ]
  },
  {
   "cell_type": "code",
   "execution_count": 7,
   "id": "a76fbd33",
   "metadata": {},
   "outputs": [],
   "source": [
    "vol= ec2_client.create_volume(AvailabilityZone= 'ap-south-1a', Size=5,\n",
    "                             VolumeType='gp2',\n",
    "                             TagSpecifications=[\n",
    "                                 {\n",
    "                                     'ResourceType' : 'volume',\n",
    "                                     'Tags': [\n",
    "                                         {\n",
    "                                             'Key': 'Name',\n",
    "                                             'Value': 'TASK_06'\n",
    "                                         },\n",
    "                                     ]\n",
    "                                 },\n",
    "                             ],)"
   ]
  },
  {
   "cell_type": "code",
   "execution_count": 8,
   "id": "702ae282",
   "metadata": {},
   "outputs": [
    {
     "data": {
      "text/plain": [
       "{'AvailabilityZone': 'ap-south-1a',\n",
       " 'CreateTime': datetime.datetime(2021, 6, 21, 9, 41, 38, tzinfo=tzutc()),\n",
       " 'Encrypted': False,\n",
       " 'Size': 5,\n",
       " 'SnapshotId': '',\n",
       " 'State': 'creating',\n",
       " 'VolumeId': 'vol-032d0decac3568f85',\n",
       " 'Iops': 100,\n",
       " 'Tags': [{'Key': 'Name', 'Value': 'TASK_06'}],\n",
       " 'VolumeType': 'gp2',\n",
       " 'MultiAttachEnabled': False,\n",
       " 'ResponseMetadata': {'RequestId': '8276904a-f9ca-49ae-a9f9-34aae87c545c',\n",
       "  'HTTPStatusCode': 200,\n",
       "  'HTTPHeaders': {'x-amzn-requestid': '8276904a-f9ca-49ae-a9f9-34aae87c545c',\n",
       "   'cache-control': 'no-cache, no-store',\n",
       "   'strict-transport-security': 'max-age=31536000; includeSubDomains',\n",
       "   'content-type': 'text/xml;charset=UTF-8',\n",
       "   'content-length': '691',\n",
       "   'date': 'Mon, 21 Jun 2021 09:41:37 GMT',\n",
       "   'server': 'AmazonEC2'},\n",
       "  'RetryAttempts': 0}}"
      ]
     },
     "execution_count": 8,
     "metadata": {},
     "output_type": "execute_result"
    }
   ],
   "source": [
    "vol"
   ]
  },
  {
   "cell_type": "code",
   "execution_count": 9,
   "id": "e49ab45d",
   "metadata": {},
   "outputs": [],
   "source": [
    "Volid =vol['VolumeId']"
   ]
  },
  {
   "cell_type": "code",
   "execution_count": 10,
   "id": "c7a09249",
   "metadata": {},
   "outputs": [
    {
     "data": {
      "text/plain": [
       "'vol-032d0decac3568f85'"
      ]
     },
     "execution_count": 10,
     "metadata": {},
     "output_type": "execute_result"
    }
   ],
   "source": [
    "Volid"
   ]
  },
  {
   "cell_type": "code",
   "execution_count": 11,
   "id": "344b1e37",
   "metadata": {},
   "outputs": [],
   "source": [
    "import time\n",
    "time.sleep(30)"
   ]
  },
  {
   "cell_type": "code",
   "execution_count": 12,
   "id": "c60498e4",
   "metadata": {},
   "outputs": [
    {
     "data": {
      "text/plain": [
       "{'AttachTime': datetime.datetime(2021, 6, 21, 9, 42, 10, 972000, tzinfo=tzutc()),\n",
       " 'Device': '/dev/sdf',\n",
       " 'InstanceId': 'i-06b147b372be45339',\n",
       " 'State': 'attaching',\n",
       " 'VolumeId': 'vol-032d0decac3568f85',\n",
       " 'ResponseMetadata': {'RequestId': '91389385-fa11-40e0-b55a-faacd4ab5f30',\n",
       "  'HTTPStatusCode': 200,\n",
       "  'HTTPHeaders': {'x-amzn-requestid': '91389385-fa11-40e0-b55a-faacd4ab5f30',\n",
       "   'cache-control': 'no-cache, no-store',\n",
       "   'strict-transport-security': 'max-age=31536000; includeSubDomains',\n",
       "   'content-type': 'text/xml;charset=UTF-8',\n",
       "   'content-length': '410',\n",
       "   'date': 'Mon, 21 Jun 2021 09:42:09 GMT',\n",
       "   'server': 'AmazonEC2'},\n",
       "  'RetryAttempts': 0}}"
      ]
     },
     "execution_count": 12,
     "metadata": {},
     "output_type": "execute_result"
    }
   ],
   "source": [
    "ec2_client.attach_volume(Device='/dev/sdf', InstanceId= imgid, VolumeId=Volid)"
   ]
  },
  {
   "cell_type": "code",
   "execution_count": null,
   "id": "33b13ed0",
   "metadata": {},
   "outputs": [],
   "source": []
  }
 ],
 "metadata": {
  "kernelspec": {
   "display_name": "Python 3",
   "language": "python",
   "name": "python3"
  },
  "language_info": {
   "codemirror_mode": {
    "name": "ipython",
    "version": 3
   },
   "file_extension": ".py",
   "mimetype": "text/x-python",
   "name": "python",
   "nbconvert_exporter": "python",
   "pygments_lexer": "ipython3",
   "version": "3.6.5"
  }
 },
 "nbformat": 4,
 "nbformat_minor": 5
}
