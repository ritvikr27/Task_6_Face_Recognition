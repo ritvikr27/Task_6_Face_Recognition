{
 "cells": [
  {
   "cell_type": "code",
   "execution_count": 19,
   "id": "f5b7660c",
   "metadata": {},
   "outputs": [],
   "source": [
    "import smtplib as s"
   ]
  },
  {
   "cell_type": "code",
   "execution_count": 20,
   "id": "b6d9633e",
   "metadata": {},
   "outputs": [],
   "source": [
    "from email.mime.text import MIMEText\n",
    "from email.mime.image import MIMEImage\n",
    "from email.mime.multipart import MIMEMultipart\n",
    "from email import encoders"
   ]
  },
  {
   "cell_type": "code",
   "execution_count": 23,
   "id": "179d8e53",
   "metadata": {},
   "outputs": [
    {
     "name": "stdout",
     "output_type": "stream",
     "text": [
      "send successfully.....\n"
     ]
    },
    {
     "data": {
      "text/plain": [
       "(221, b'2.0.0 closing connection y1sm3479849pgr.70 - gsmtp')"
      ]
     },
     "execution_count": 23,
     "metadata": {},
     "output_type": "execute_result"
    }
   ],
   "source": [
    "sender= \"************@gmail.com\"\n",
    "receiver= \"**************@gmail.com\"\n",
    "password= \"*************\"\n",
    "subject= \"Intruder detected-SEND HELP\"\n",
    "email_body= \"Please check and assure the safety\"\n",
    "message= MIMEMultipart()\n",
    "message['From']= sender\n",
    "message['To']= receiver\n",
    "message['Subject']= subject\n",
    "message.attach(MIMEText(email_body, 'plain'))\n",
    "\n",
    "server=s.SMTP('smtp.gmail.com', 587)\n",
    "server.starttls()\n",
    "server.login(sender,password)\n",
    "text= message.as_string()\n",
    "server.sendmail(sender, receiver, text)\n",
    "print('send successfully.....')\n",
    "server.quit()"
   ]
  },
  {
   "cell_type": "code",
   "execution_count": null,
   "id": "38481788",
   "metadata": {},
   "outputs": [],
   "source": []
  }
 ],
 "metadata": {
  "kernelspec": {
   "display_name": "Python 3",
   "language": "python",
   "name": "python3"
  },
  "language_info": {
   "codemirror_mode": {
    "name": "ipython",
    "version": 3
   },
   "file_extension": ".py",
   "mimetype": "text/x-python",
   "name": "python",
   "nbconvert_exporter": "python",
   "pygments_lexer": "ipython3",
   "version": "3.6.5"
  }
 },
 "nbformat": 4,
 "nbformat_minor": 5
}
